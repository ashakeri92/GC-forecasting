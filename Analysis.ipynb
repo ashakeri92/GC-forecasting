{
 "cells": [
  {
   "cell_type": "markdown",
   "metadata": {},
   "source": [
    "Import standard packages."
   ]
  },
  {
   "cell_type": "code",
   "execution_count": null,
   "metadata": {},
   "outputs": [],
   "source": [
    "import pandas as pd\n",
    "import numpy as np\n",
    "import zipfile"
   ]
  },
  {
   "cell_type": "markdown",
   "metadata": {},
   "source": [
    "Unzip data file and rename file to \"GC\"."
   ]
  },
  {
   "cell_type": "code",
   "execution_count": 6,
   "metadata": {},
   "outputs": [],
   "source": [
    "with zipfile.ZipFile(\"Data/archive.zip\") as zip_ref:\n",
    "    zip_ref.extractall(\"Data/GC\")"
   ]
  },
  {
   "cell_type": "code",
   "execution_count": 7,
   "metadata": {},
   "outputs": [
    {
     "data": {
      "text/html": [
       "<div>\n",
       "<style scoped>\n",
       "    .dataframe tbody tr th:only-of-type {\n",
       "        vertical-align: middle;\n",
       "    }\n",
       "\n",
       "    .dataframe tbody tr th {\n",
       "        vertical-align: top;\n",
       "    }\n",
       "\n",
       "    .dataframe thead th {\n",
       "        text-align: right;\n",
       "    }\n",
       "</style>\n",
       "<table border=\"1\" class=\"dataframe\">\n",
       "  <thead>\n",
       "    <tr style=\"text-align: right;\">\n",
       "      <th></th>\n",
       "      <th>Date</th>\n",
       "      <th>Close/Last</th>\n",
       "      <th>Volume</th>\n",
       "      <th>Open</th>\n",
       "      <th>High</th>\n",
       "      <th>Low</th>\n",
       "    </tr>\n",
       "  </thead>\n",
       "  <tbody>\n",
       "    <tr>\n",
       "      <th>0</th>\n",
       "      <td>10/28/2022</td>\n",
       "      <td>1648.3</td>\n",
       "      <td>186519.0</td>\n",
       "      <td>1667.2</td>\n",
       "      <td>1670.9</td>\n",
       "      <td>1640.7</td>\n",
       "    </tr>\n",
       "    <tr>\n",
       "      <th>1</th>\n",
       "      <td>10/27/2022</td>\n",
       "      <td>1668.8</td>\n",
       "      <td>180599.0</td>\n",
       "      <td>1668.8</td>\n",
       "      <td>1674.8</td>\n",
       "      <td>1658.5</td>\n",
       "    </tr>\n",
       "    <tr>\n",
       "      <th>2</th>\n",
       "      <td>10/26/2022</td>\n",
       "      <td>1669.2</td>\n",
       "      <td>183453.0</td>\n",
       "      <td>1657.7</td>\n",
       "      <td>1679.4</td>\n",
       "      <td>1653.8</td>\n",
       "    </tr>\n",
       "    <tr>\n",
       "      <th>3</th>\n",
       "      <td>10/25/2022</td>\n",
       "      <td>1658.0</td>\n",
       "      <td>178706.0</td>\n",
       "      <td>1654.5</td>\n",
       "      <td>1666.8</td>\n",
       "      <td>1641.2</td>\n",
       "    </tr>\n",
       "    <tr>\n",
       "      <th>4</th>\n",
       "      <td>10/24/2022</td>\n",
       "      <td>1654.1</td>\n",
       "      <td>167448.0</td>\n",
       "      <td>1662.9</td>\n",
       "      <td>1675.5</td>\n",
       "      <td>1648.0</td>\n",
       "    </tr>\n",
       "  </tbody>\n",
       "</table>\n",
       "</div>"
      ],
      "text/plain": [
       "         Date  Close/Last    Volume    Open    High     Low\n",
       "0  10/28/2022      1648.3  186519.0  1667.2  1670.9  1640.7\n",
       "1  10/27/2022      1668.8  180599.0  1668.8  1674.8  1658.5\n",
       "2  10/26/2022      1669.2  183453.0  1657.7  1679.4  1653.8\n",
       "3  10/25/2022      1658.0  178706.0  1654.5  1666.8  1641.2\n",
       "4  10/24/2022      1654.1  167448.0  1662.9  1675.5  1648.0"
      ]
     },
     "execution_count": 7,
     "metadata": {},
     "output_type": "execute_result"
    }
   ],
   "source": [
    "df = pd.read_csv(\"Data/GC/Gold.csv\")\n",
    "df.head()"
   ]
  },
  {
   "cell_type": "code",
   "execution_count": null,
   "metadata": {},
   "outputs": [],
   "source": []
  }
 ],
 "metadata": {
  "kernelspec": {
   "display_name": "Python 3",
   "language": "python",
   "name": "python3"
  },
  "language_info": {
   "codemirror_mode": {
    "name": "ipython",
    "version": 3
   },
   "file_extension": ".py",
   "mimetype": "text/x-python",
   "name": "python",
   "nbconvert_exporter": "python",
   "pygments_lexer": "ipython3",
   "version": "3.8.5"
  }
 },
 "nbformat": 4,
 "nbformat_minor": 4
}
