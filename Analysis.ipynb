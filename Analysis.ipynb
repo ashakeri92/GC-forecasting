{
 "cells": [
  {
   "cell_type": "markdown",
   "metadata": {},
   "source": [
    "# Gold Futures Pricing Forecast "
   ]
  },
  {
   "cell_type": "markdown",
   "metadata": {},
   "source": [
    "by: Armun Shakeri"
   ]
  },
  {
   "cell_type": "markdown",
   "metadata": {},
   "source": [
    "### Overview"
   ]
  },
  {
   "cell_type": "markdown",
   "metadata": {},
   "source": [
    "This project seeks to forecast gold futures prices in the next 1 month, 3 month, and 6 month span. "
   ]
  },
  {
   "cell_type": "markdown",
   "metadata": {},
   "source": [
    "### Import Standard Packages and Data"
   ]
  },
  {
   "cell_type": "markdown",
   "metadata": {},
   "source": [
    "Import standard packages."
   ]
  },
  {
   "cell_type": "code",
   "execution_count": 1,
   "metadata": {},
   "outputs": [],
   "source": [
    "import pandas as pd\n",
    "import numpy as np\n",
    "import zipfile\n",
    "bannana"
   ]
  },
  {
   "cell_type": "markdown",
   "metadata": {},
   "source": [
    "Unzip data file and rename file to \"GC\"."
   ]
  },
  {
   "cell_type": "code",
   "execution_count": 2,
   "metadata": {},
   "outputs": [],
   "source": [
    "with zipfile.ZipFile(\"Data/archive.zip\") as zip_ref:\n",
    "    zip_ref.extractall(\"Data/GC\")"
   ]
  },
  {
   "cell_type": "code",
   "execution_count": 12,
   "metadata": {},
   "outputs": [
    {
     "data": {
      "text/html": [
       "<div>\n",
       "<style scoped>\n",
       "    .dataframe tbody tr th:only-of-type {\n",
       "        vertical-align: middle;\n",
       "    }\n",
       "\n",
       "    .dataframe tbody tr th {\n",
       "        vertical-align: top;\n",
       "    }\n",
       "\n",
       "    .dataframe thead th {\n",
       "        text-align: right;\n",
       "    }\n",
       "</style>\n",
       "<table border=\"1\" class=\"dataframe\">\n",
       "  <thead>\n",
       "    <tr style=\"text-align: right;\">\n",
       "      <th></th>\n",
       "      <th>Date</th>\n",
       "      <th>Close/Last</th>\n",
       "      <th>Volume</th>\n",
       "      <th>Open</th>\n",
       "      <th>High</th>\n",
       "      <th>Low</th>\n",
       "    </tr>\n",
       "  </thead>\n",
       "  <tbody>\n",
       "    <tr>\n",
       "      <th>0</th>\n",
       "      <td>10/28/2022</td>\n",
       "      <td>1648.3</td>\n",
       "      <td>186519.0</td>\n",
       "      <td>1667.2</td>\n",
       "      <td>1670.9</td>\n",
       "      <td>1640.7</td>\n",
       "    </tr>\n",
       "    <tr>\n",
       "      <th>1</th>\n",
       "      <td>10/27/2022</td>\n",
       "      <td>1668.8</td>\n",
       "      <td>180599.0</td>\n",
       "      <td>1668.8</td>\n",
       "      <td>1674.8</td>\n",
       "      <td>1658.5</td>\n",
       "    </tr>\n",
       "    <tr>\n",
       "      <th>2</th>\n",
       "      <td>10/26/2022</td>\n",
       "      <td>1669.2</td>\n",
       "      <td>183453.0</td>\n",
       "      <td>1657.7</td>\n",
       "      <td>1679.4</td>\n",
       "      <td>1653.8</td>\n",
       "    </tr>\n",
       "    <tr>\n",
       "      <th>3</th>\n",
       "      <td>10/25/2022</td>\n",
       "      <td>1658.0</td>\n",
       "      <td>178706.0</td>\n",
       "      <td>1654.5</td>\n",
       "      <td>1666.8</td>\n",
       "      <td>1641.2</td>\n",
       "    </tr>\n",
       "    <tr>\n",
       "      <th>4</th>\n",
       "      <td>10/24/2022</td>\n",
       "      <td>1654.1</td>\n",
       "      <td>167448.0</td>\n",
       "      <td>1662.9</td>\n",
       "      <td>1675.5</td>\n",
       "      <td>1648.0</td>\n",
       "    </tr>\n",
       "    <tr>\n",
       "      <th>...</th>\n",
       "      <td>...</td>\n",
       "      <td>...</td>\n",
       "      <td>...</td>\n",
       "      <td>...</td>\n",
       "      <td>...</td>\n",
       "      <td>...</td>\n",
       "    </tr>\n",
       "    <tr>\n",
       "      <th>2542</th>\n",
       "      <td>11/06/2012</td>\n",
       "      <td>1715.0</td>\n",
       "      <td>163585.0</td>\n",
       "      <td>1685.4</td>\n",
       "      <td>1720.9</td>\n",
       "      <td>1683.5</td>\n",
       "    </tr>\n",
       "    <tr>\n",
       "      <th>2543</th>\n",
       "      <td>11/05/2012</td>\n",
       "      <td>1683.2</td>\n",
       "      <td>109647.0</td>\n",
       "      <td>1676.7</td>\n",
       "      <td>1686.2</td>\n",
       "      <td>1672.5</td>\n",
       "    </tr>\n",
       "    <tr>\n",
       "      <th>2544</th>\n",
       "      <td>11/02/2012</td>\n",
       "      <td>1675.2</td>\n",
       "      <td>205777.0</td>\n",
       "      <td>1715.6</td>\n",
       "      <td>1717.2</td>\n",
       "      <td>1674.8</td>\n",
       "    </tr>\n",
       "    <tr>\n",
       "      <th>2545</th>\n",
       "      <td>11/01/2012</td>\n",
       "      <td>1715.5</td>\n",
       "      <td>105904.0</td>\n",
       "      <td>1720.4</td>\n",
       "      <td>1727.5</td>\n",
       "      <td>1715.1</td>\n",
       "    </tr>\n",
       "    <tr>\n",
       "      <th>2546</th>\n",
       "      <td>10/31/2012</td>\n",
       "      <td>1719.1</td>\n",
       "      <td>110928.0</td>\n",
       "      <td>1710.3</td>\n",
       "      <td>1726.6</td>\n",
       "      <td>1709.8</td>\n",
       "    </tr>\n",
       "  </tbody>\n",
       "</table>\n",
       "<p>2547 rows × 6 columns</p>\n",
       "</div>"
      ],
      "text/plain": [
       "            Date  Close/Last    Volume    Open    High     Low\n",
       "0     10/28/2022      1648.3  186519.0  1667.2  1670.9  1640.7\n",
       "1     10/27/2022      1668.8  180599.0  1668.8  1674.8  1658.5\n",
       "2     10/26/2022      1669.2  183453.0  1657.7  1679.4  1653.8\n",
       "3     10/25/2022      1658.0  178706.0  1654.5  1666.8  1641.2\n",
       "4     10/24/2022      1654.1  167448.0  1662.9  1675.5  1648.0\n",
       "...          ...         ...       ...     ...     ...     ...\n",
       "2542  11/06/2012      1715.0  163585.0  1685.4  1720.9  1683.5\n",
       "2543  11/05/2012      1683.2  109647.0  1676.7  1686.2  1672.5\n",
       "2544  11/02/2012      1675.2  205777.0  1715.6  1717.2  1674.8\n",
       "2545  11/01/2012      1715.5  105904.0  1720.4  1727.5  1715.1\n",
       "2546  10/31/2012      1719.1  110928.0  1710.3  1726.6  1709.8\n",
       "\n",
       "[2547 rows x 6 columns]"
      ]
     },
     "execution_count": 12,
     "metadata": {},
     "output_type": "execute_result"
    }
   ],
   "source": [
    "df = pd.read_csv(\"Data/GC/Gold.csv\")\n",
    "df.head(2547)"
   ]
  },
  {
   "cell_type": "code",
   "execution_count": 10,
   "metadata": {},
   "outputs": [
    {
     "name": "stdout",
     "output_type": "stream",
     "text": [
      "<class 'pandas.core.frame.DataFrame'>\n",
      "RangeIndex: 2547 entries, 0 to 2546\n",
      "Data columns (total 6 columns):\n",
      " #   Column      Non-Null Count  Dtype  \n",
      "---  ------      --------------  -----  \n",
      " 0   Date        2547 non-null   object \n",
      " 1   Close/Last  2547 non-null   float64\n",
      " 2   Volume      2508 non-null   float64\n",
      " 3   Open        2547 non-null   float64\n",
      " 4   High        2547 non-null   float64\n",
      " 5   Low         2547 non-null   float64\n",
      "dtypes: float64(5), object(1)\n",
      "memory usage: 119.5+ KB\n"
     ]
    }
   ],
   "source": [
    "df.info(verbose=True)"
   ]
  },
  {
   "cell_type": "markdown",
   "metadata": {},
   "source": [
    "There are 39 specific dates with a Volume of 0. "
   ]
  },
  {
   "cell_type": "code",
   "execution_count": 7,
   "metadata": {},
   "outputs": [
    {
     "data": {
      "text/plain": [
       "Date           0\n",
       "Close/Last     0\n",
       "Volume        39\n",
       "Open           0\n",
       "High           0\n",
       "Low            0\n",
       "dtype: int64"
      ]
     },
     "execution_count": 7,
     "metadata": {},
     "output_type": "execute_result"
    }
   ],
   "source": [
    "df.isna().sum()"
   ]
  },
  {
   "cell_type": "markdown",
   "metadata": {},
   "source": [
    "We will fill the colume category with 0. We will not drop any dates that have a volume of 0 since volume is important for liquidity. "
   ]
  },
  {
   "cell_type": "code",
   "execution_count": 14,
   "metadata": {},
   "outputs": [],
   "source": [
    "df = df['Volume'].fillna('0')"
   ]
  },
  {
   "cell_type": "code",
   "execution_count": 15,
   "metadata": {},
   "outputs": [
    {
     "data": {
      "text/plain": [
       "0"
      ]
     },
     "execution_count": 15,
     "metadata": {},
     "output_type": "execute_result"
    }
   ],
   "source": [
    "df.isna().sum()"
   ]
  },
  {
   "cell_type": "code",
   "execution_count": null,
   "metadata": {},
   "outputs": [],
   "source": []
  }
 ],
 "metadata": {
  "kernelspec": {
   "display_name": "Python 3",
   "language": "python",
   "name": "python3"
  },
  "language_info": {
   "codemirror_mode": {
    "name": "ipython",
    "version": 3
   },
   "file_extension": ".py",
   "mimetype": "text/x-python",
   "name": "python",
   "nbconvert_exporter": "python",
   "pygments_lexer": "ipython3",
   "version": "3.8.5"
  }
 },
 "nbformat": 4,
 "nbformat_minor": 4
}
